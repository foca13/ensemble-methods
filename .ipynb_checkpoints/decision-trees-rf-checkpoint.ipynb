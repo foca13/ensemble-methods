{
 "cells": [
  {
   "cell_type": "markdown",
   "id": "c0366ff6-7c75-477d-9cec-a4a6bf67ce9a",
   "metadata": {
    "tags": []
   },
   "source": [
    "<h4> Decision Trees </h4>\n",
    "\n",
    "Train a decisin tree with the from sklearn's iris dataset https://scikit-learn.org/stable/auto_examples/datasets/plot_iris_dataset.html\n",
    "\n",
    "- Select the columns for X and the target y\n",
    "\n",
    "- Split the data in train and test splits with sklearn train_test_split function:\n",
    "https://scikit-learn.org/stable/modules/generated/sklearn.model_selection.train_test_split.html\n",
    "- Standardize X_train and X_test using Sklearn's standard scaler: \n",
    "https://scikit-learn.org/stable/modules/generated/sklearn.preprocessing.StandardScaler.html\n",
    "\n",
    "- Use Sklearn's DecisintTree:\n",
    "https://scikit-learn.org/stable/modules/generated/sklearn.linear_model.LogisticRegression.html\n",
    "\n",
    "- Display the trained decision tree\n",
    "\n",
    "- Compute the accuracy and recall on the test set with sklearn metrics:\n",
    "https://scikit-learn.org/stable/modules/generated/sklearn.metrics.accuracy_score.html\n",
    "https://scikit-learn.org/stable/modules/generated/sklearn.metrics.recall_score.html\n",
    "\n",
    "- Show the confusion matrix on the test set:\n",
    "https://scikit-learn.org/stable/modules/generated/sklearn.metrics.confusion_matrix.html"
   ]
  },
  {
   "cell_type": "code",
   "execution_count": 1,
   "id": "2d8ae195-533b-4653-ba0c-150101610233",
   "metadata": {},
   "outputs": [],
   "source": [
    "from sklearn import datasets\n",
    "iris = datasets.load_iris()"
   ]
  },
  {
   "cell_type": "markdown",
   "id": "40de81c6-89a7-473c-abb2-d2379b2b81a1",
   "metadata": {},
   "source": [
    "<h4> Random forests </h4>\n",
    "\n",
    "- Use the same dataset to train a RandomForestClassifier\n",
    "\n",
    "- Check the accuracy and recall on the test set\n",
    "\n",
    "- Plot the most important features"
   ]
  },
  {
   "cell_type": "markdown",
   "id": "8b3eb268-67fa-4813-9c1e-813c19d59492",
   "metadata": {},
   "source": [
    "<h4> Principal Component Analysis (PCA) </h4>"
   ]
  },
  {
   "cell_type": "markdown",
   "id": "73792932-fb4e-4ae1-bf9e-b79aea0307a1",
   "metadata": {},
   "source": [
    "Principal Component Analysis (PCA) is a statistical technique used for dimensionality reduction and data transformation. It aims to identify the directions (principal components) in which the data varies the most and represents the data in a new coordinate system defined by these components.\n",
    "\n",
    "The key idea behind PCA is to find a lower-dimensional representation of the data that captures the maximum amount of variance. It achieves this by transforming the original features into a new set of uncorrelated variables, called principal components. The first principal component captures the most significant amount of variance in the data, followed by the second principal component, and so on.\n",
    "\n",
    "Here's a step-by-step overview of how PCA works:\n",
    "\n",
    "Standardize the data: If the features have different scales or units, it is important to standardize the data by subtracting the mean and dividing by the standard deviation. This step ensures that all features are on a similar scale and prevents dominance by features with larger variances.\n",
    "\n",
    "Compute the covariance matrix: The covariance matrix is computed to understand the relationships and dependencies between the different features in the data.\n",
    "\n",
    "Perform eigendecomposition: The covariance matrix is decomposed into its eigenvectors and eigenvalues. The eigenvectors represent the principal components, and the eigenvalues indicate the amount of variance explained by each principal component.\n",
    "\n",
    "Select the principal components: The principal components are ranked based on their corresponding eigenvalues, and the top components capturing the most variance are selected. The number of principal components to retain depends on the desired level of dimensionality reduction.\n",
    "\n",
    "Project the data onto the new coordinate system: The original data is transformed by projecting it onto the selected principal components. Each data point is represented by its new coordinates in the principal component space.\n",
    "\n",
    "PCA is a powerful tool for exploratory data analysis, visualization, and feature extraction. It helps to identify patterns, rbeduce noise, and provide a concise representation of the data. PCA is widely used in various fields, including image processing, signal processing, genetics, finance, and social sciences, where dimensionality reduction and data compression are necessary.\n",
    "\n",
    "*Generated with ChatGTPv3.5 May 24th Version, prompt: \"what is principal component analysis.\"*"
   ]
  },
  {
   "cell_type": "markdown",
   "id": "b64c6a37-36b5-4feb-9b3f-f121ea60051d",
   "metadata": {},
   "source": [
    "![PCA](PCA.png \"Principal Component ANalysis\")"
   ]
  },
  {
   "cell_type": "markdown",
   "id": "98d8f6b7-9141-47c0-99ab-1a17a2eab993",
   "metadata": {},
   "source": [
    "### General procedure\n",
    "\n",
    "1. Standardize the data (features X)\n",
    "2. Calculate the covariance matrix\n",
    "3. Calculate the eigenvalues and eigenvectors of the covariance matrix\n",
    "4. Select the most significant components (~95%) or the first two in case you want to visualize the projection\n",
    "5. Transform the data"
   ]
  },
  {
   "cell_type": "markdown",
   "id": "3f10bd90-aea3-4836-a700-83064fbb1714",
   "metadata": {},
   "source": [
    "The transformation **T = X W** maps a data vector $x_{(i)}$ from an original space with p variables to a lower dimensional space. Nonetheless, we don't need to maintain all principal components. Select the two eigenvectors with the largest eigenvalues and do the follwing mapping: $\\begin{gather*}\n",
    "{\\displaystyle \\mathbf {T}=\\mathbf {X} \\mathbf {W}}\n",
    "\\end{gather*}\n",
    "$"
   ]
  },
  {
   "cell_type": "markdown",
   "id": "f23315ee-e4c3-4479-9ac7-902d1ae27f97",
   "metadata": {},
   "source": [
    "Use Sklearn's PCA and project your data into the two first principal components"
   ]
  }
 ],
 "metadata": {
  "kernelspec": {
   "display_name": "Python 3 (ipykernel)",
   "language": "python",
   "name": "python3"
  },
  "language_info": {
   "codemirror_mode": {
    "name": "ipython",
    "version": 3
   },
   "file_extension": ".py",
   "mimetype": "text/x-python",
   "name": "python",
   "nbconvert_exporter": "python",
   "pygments_lexer": "ipython3",
   "version": "3.8.10"
  }
 },
 "nbformat": 4,
 "nbformat_minor": 5
}
